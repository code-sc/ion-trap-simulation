{
 "cells": [
  {
   "cell_type": "code",
   "execution_count": 1,
   "metadata": {},
   "outputs": [],
   "source": [
    "import numpy as np\n",
    "import matplotlib.pyplot as plt\n",
    "from src.ringtrap_python.potentials import RingTrapPotential, RingTrapHarmonicPotential, MutualCoulombPotential, MutualCoulombHarmonicPotential, PointChargePotential, LocalHarmonicPotential1D, InverseSquarePotential1D\n",
    "from src.ringtrap_python.molecular_dynamics import sim_leapfrog\n",
    "from src.ringtrap_python.eigenmodes import get_ring_eq_pos, get_linear_eq_pos"
   ]
  },
  {
   "cell_type": "markdown",
   "metadata": {},
   "source": [
    "# Harmonic Oscillators with Coulomb Force"
   ]
  },
  {
   "cell_type": "code",
   "execution_count": 32,
   "metadata": {},
   "outputs": [],
   "source": [
    "# physical constants \n",
    "\n",
    "ensemble_properties = {\n",
    "    \"n\": 2,\n",
    "    \"charge\": 10,\n",
    "    \"mass\": 5\n",
    "}\n",
    "\n",
    "n = ensemble_properties[\"n\"]\n",
    "w = np.array([5 * 2*np.pi, 5.1 * 2*np.pi])\n",
    "dist = 1\n",
    "d = np.array([-dist, dist])"
   ]
  },
  {
   "cell_type": "code",
   "execution_count": 33,
   "metadata": {},
   "outputs": [],
   "source": [
    "potentials = [\n",
    "        LocalHarmonicPotential1D(w),\n",
    "        InverseSquarePotential1D(d)\n",
    "    ]"
   ]
  },
  {
   "cell_type": "code",
   "execution_count": 34,
   "metadata": {},
   "outputs": [
    {
     "name": "stdout",
     "output_type": "stream",
     "text": [
      "[-0.00501658  0.00482178]\n"
     ]
    }
   ],
   "source": [
    "# initial conditions\n",
    "r_0 = get_linear_eq_pos(ensemble_properties, dist, potentials=potentials, method=\"BFGS\")\n",
    "print(r_0)\n",
    "v_0 = np.array([0, 5])"
   ]
  },
  {
   "cell_type": "code",
   "execution_count": 35,
   "metadata": {},
   "outputs": [],
   "source": [
    "T = 1e3\n",
    "dt = 1e-3\n",
    "\n",
    "r_sim, v_sim, a_sim = sim_leapfrog(T, dt, r_0, v_0, ensemble_properties, potentials=potentials, language=\"c++\", dims=1)\n",
    "t_sim = np.linspace(0, T, int(T/dt)+1)"
   ]
  },
  {
   "cell_type": "code",
   "execution_count": 36,
   "metadata": {},
   "outputs": [
    {
     "data": {
      "image/png": "[encoded data removed]",
      "text/plain": [
       "<Figure size 432x288 with 1 Axes>"
      ]
     },
     "metadata": {
      "needs_background": "light"
     },
     "output_type": "display_data"
    }
   ],
   "source": [
    "for i in range(n):\n",
    "    plt.plot(t_sim, r_sim[:,i], alpha=0.5)\n",
    "plt.show()"
   ]
  },
  {
   "cell_type": "markdown",
   "metadata": {},
   "source": [
    "# Ringtrap Simulation"
   ]
  },
  {
   "cell_type": "code",
   "execution_count": 16,
   "metadata": {},
   "outputs": [],
   "source": [
    "M_Yb = 2.8733965e-25\n",
    "e = 1.60217883e-19\n",
    "\n",
    "# Properties of the ion chain\n",
    "ensemble_properties = {\n",
    "    \"n\": 10,\n",
    "    \"charge\": e,\n",
    "    \"mass\": M_Yb,\n",
    "}\n",
    "n = ensemble_properties[\"n\"]\n",
    "\n",
    "# Properties of the potentials\n",
    "# trap_radius = (40 * 1e-6) / (2*np.pi) # m, trap radius\n",
    "trap_radius = 1e-3\n",
    "wr = 9 * 2*np.pi*1e6\n",
    "wz = 10 * 2*np.pi*1e6\n",
    "\n",
    "point_charge_position = np.array([-trap_radius, 0, -200 * 1e-6])\n",
    "point_charge = e"
   ]
  },
  {
   "cell_type": "code",
   "execution_count": 17,
   "metadata": {},
   "outputs": [],
   "source": [
    "potentials = [\n",
    "            RingTrapPotential(trap_radius, wr, wz), \n",
    "            MutualCoulombPotential(100*trap_radius),\n",
    "        ]\n",
    "perturbed_potentials = [\n",
    "            RingTrapPotential(trap_radius, wr, wz), \n",
    "            MutualCoulombPotential(100*trap_radius),\n",
    "            PointChargePotential(point_charge_position, point_charge)\n",
    "        ]"
   ]
  },
  {
   "cell_type": "code",
   "execution_count": 18,
   "metadata": {},
   "outputs": [],
   "source": [
    "r_eq = get_ring_eq_pos(ensemble_properties,\n",
    "                      offset=0,\n",
    "                      potentials=potentials, \n",
    "                      initial_radius=trap_radius,\n",
    "                      method=\"BFGS\")"
   ]
  },
  {
   "cell_type": "code",
   "execution_count": 99,
   "metadata": {},
   "outputs": [],
   "source": [
    "harmonic_potentials = [\n",
    "    RingTrapHarmonicPotential(trap_radius, wr, wz, r_eq),\n",
    "    MutualCoulombHarmonicPotential(r_eq, 100*trap_radius)\n",
    "]"
   ]
  },
  {
   "cell_type": "code",
   "execution_count": 19,
   "metadata": {},
   "outputs": [],
   "source": [
    "# initial conditions\n",
    "\n",
    "# random displacements from equilibrium\n",
    "r_0 = np.copy(r_eq) + np.random.normal(loc=5e-9, scale=5e-9, size=r_eq.size)\n",
    "v_0 = np.zeros(3*n)\n",
    "\n",
    "# tangential velocity\n",
    "# v_mag = 10\n",
    "# for i in range(n):\n",
    "#     v_0[i] = -v_mag * np.sin(2*np.pi*(i/n))\n",
    "#     v_0[n+i] = v_mag * np.cos(2*np.pi*(i/n))\n",
    "#     v_0[2*n+i] = 0"
   ]
  },
  {
   "cell_type": "code",
   "execution_count": 30,
   "metadata": {},
   "outputs": [],
   "source": [
    "T = 1e-3\n",
    "dt = 1e-9\n",
    "\n",
    "r_sim, v_sim, a_sim = sim_leapfrog(T, dt, r_0, v_0, ensemble_properties, potentials=potentials, language=\"c++\")\n",
    "t_sim = np.linspace(0, T, int(T/dt)+1)"
   ]
  },
  {
   "cell_type": "code",
   "execution_count": 31,
   "metadata": {},
   "outputs": [
    {
     "data": {
      "text/plain": [
       "(1000001, 30)"
      ]
     },
     "execution_count": 31,
     "metadata": {},
     "output_type": "execute_result"
    }
   ],
   "source": [
    "r_sim.shape"
   ]
  },
  {
   "cell_type": "code",
   "execution_count": 32,
   "metadata": {},
   "outputs": [
    {
     "data": {
      "image/png": "[encoded data removed]",
      "text/plain": [
       "<Figure size 576x720 with 3 Axes>"
      ]
     },
     "metadata": {
      "needs_background": "light"
     },
     "output_type": "display_data"
    }
   ],
   "source": [
    "fig, ax = plt.subplots(3, figsize=(8, 10))\n",
    "for i in range(n):\n",
    "    ax[0].plot(t_sim, r_sim[:,i])\n",
    "    ax[1].plot(t_sim, r_sim[:,i+n])\n",
    "    ax[2].plot(t_sim, r_sim[:,i+2*n])\n",
    "# ax[0].set_xlim(0, 1e-6)\n",
    "# ax[0].set_ylim(0.99 * trap_radius, 1.01 * trap_radius)\n",
    "plt.show()"
   ]
  },
  {
   "cell_type": "code",
   "execution_count": 37,
   "metadata": {},
   "outputs": [
    {
     "data": {
      "image/png": "[encoded data removed]",
      "text/plain": [
       "<Figure size 432x288 with 1 Axes>"
      ]
     },
     "metadata": {
      "needs_background": "light"
     },
     "output_type": "display_data"
    }
   ],
   "source": [
    "# FFT with windowing and linear spectral density\n",
    "from scipy.signal import welch, butter, sosfilt\n",
    "\n",
    "n_tsteps = int(T/dt)\n",
    "\n",
    "# np.abs(rfftn(np.sin(np.unwrap(r_sim[:,0,0]))))\n",
    "\n",
    "# sos = butter(10, 1e5, fs=(1/dt), btype=\"highpass\", output=\"sos\")\n",
    "# r_filt = sosfilt(sos, r_sim[:,0,0])\n",
    "# plt.plot(np.linspace(0,T,n_tsteps+1), r_filt)\n",
    "\n",
    "dims = {\n",
    "        0: \"x\", \n",
    "        1: \"y\", \n",
    "        2: \"z\",\n",
    "        }\n",
    "for i in dims:\n",
    "    freq, Pxx_spec = welch(r_sim[:,i+0], fs=(1/dt), window=\"hann\", scaling=\"spectrum\", nperseg=n_tsteps)\n",
    "    lin_spec = Pxx_spec ** 0.5\n",
    "    plt.plot(freq / 1e6, lin_spec * 1e9, label=dims[i], alpha=0.7)\n",
    "\n",
    "# plt.xlim(8.9, 9.1)\n",
    "# plt.xticks(np.arange(0, 2, 0.1))\n",
    "# plt.ylim(0, 100)\n",
    "\n",
    "plt.xlabel(\"Frequency (MHz)\")\n",
    "plt.ylabel(\"Linear Spectrum (nm)\")\n",
    "plt.legend()\n",
    "plt.show()"
   ]
  },
  {
   "cell_type": "code",
   "execution_count": null,
   "metadata": {},
   "outputs": [],
   "source": []
  }
 ],
 "metadata": {
  "kernelspec": {
   "display_name": "miscenv",
   "language": "python",
   "name": "python3"
  },
  "language_info": {
   "codemirror_mode": {
    "name": "ipython",
    "version": 3
   },
   "file_extension": ".py",
   "mimetype": "text/x-python",
   "name": "python",
   "nbconvert_exporter": "python",
   "pygments_lexer": "ipython3",
   "version": "3.7.16"
  },
  "orig_nbformat": 4
 },
 "nbformat": 4,
 "nbformat_minor": 2
}
