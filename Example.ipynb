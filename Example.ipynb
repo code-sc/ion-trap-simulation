{
 "cells": [
  {
   "cell_type": "markdown",
   "id": "fc2dffa5",
   "metadata": {},
   "source": [
    "## AN EXAMPLE SIMULATION\n",
    "\n",
    "This is an example simulation to test out the functioning of the simulation library"
   ]
  },
  {
   "cell_type": "code",
   "execution_count": 1,
   "id": "a7e4c35c",
   "metadata": {},
   "outputs": [],
   "source": [
    "# IMPORT MODULES\n",
    "\n",
    "import numpy as np\n",
    "import matplotlib.pyplot as plt\n",
    "\n",
    "from src.ringtrap_python.molecular_dynamics import sim_leapfrog\n",
    "from src.ringtrap_python.potentials import LocalHarmonicPotential1D, InverseSquarePotential1D\n",
    "from src.ringtrap_python.eigenmodes import get_linear_eq_pos"
   ]
  },
  {
   "cell_type": "markdown",
   "id": "e865ae63",
   "metadata": {},
   "source": [
    "### 1 ATOM 1D HARMONIC POTENTIAL\n",
    "\n",
    "Here we implement a single atom in a 1D harmonic potential and compare with theory"
   ]
  },
  {
   "cell_type": "markdown",
   "id": "40ba5b7f",
   "metadata": {},
   "source": [
    "### 2 IDENTICAL ATOM 1D HARMONIC POTENTIAL\n",
    "\n",
    "Here we compare 2 identical atoms in a harmonic potential and compare with theory"
   ]
  },
  {
   "cell_type": "markdown",
   "id": "3b1d8692",
   "metadata": {},
   "source": [
    "### 2 IDENTICAL CHARGES COLOUMB POTENTIAL\n",
    "\n",
    "Here we compare 2 identical charged atoms for their coloumb interaction"
   ]
  },
  {
   "cell_type": "markdown",
   "id": "20042979",
   "metadata": {},
   "source": [
    "### 2 CHARGED PARTICLES DIFFERENT MASS\n",
    "\n",
    "Here we compare 2 charges of different masses for their coloumbic interactions"
   ]
  },
  {
   "cell_type": "code",
   "execution_count": null,
   "id": "79af9ad3",
   "metadata": {},
   "outputs": [],
   "source": []
  }
 ],
 "metadata": {
  "kernelspec": {
   "display_name": "Python 3 (ipykernel)",
   "language": "python",
   "name": "python3"
  },
  "language_info": {
   "codemirror_mode": {
    "name": "ipython",
    "version": 3
   },
   "file_extension": ".py",
   "mimetype": "text/x-python",
   "name": "python",
   "nbconvert_exporter": "python",
   "pygments_lexer": "ipython3",
   "version": "3.10.12"
  }
 },
 "nbformat": 4,
 "nbformat_minor": 5
}
