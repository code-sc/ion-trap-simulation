{
 "cells": [
  {
   "cell_type": "markdown",
   "id": "fc2dffa5",
   "metadata": {},
   "source": [
    "## EXAMPLE SIMULATIONS\n",
    "\n",
    "These are example simulations to test out the functioning of the simulation library"
   ]
  },
  {
   "cell_type": "code",
   "execution_count": null,
   "id": "a7e4c35c",
   "metadata": {},
   "outputs": [],
   "source": [
    "# IMPORT MODULES\n",
    "\n",
    "import numpy as np\n",
    "import matplotlib.pyplot as plt\n",
    "import matplotlib as mpl\n",
    "\n",
    "from src.ringtrap_python.molecular_dynamics import sim_leapfrog\n",
    "from src.ringtrap_python.potentials import LocalHarmonicPotential1D, InverseSquarePotential1D, MutualCoulombPotential, LinearQuadrupolePseudoPotential, testPseudoPot\n",
    "from src.ringtrap_python.initializers import fibonacciSphere, genMaxwellVelocities, steepestDescent"
   ]
  },
  {
   "cell_type": "code",
   "execution_count": null,
   "id": "fed3a8f8",
   "metadata": {},
   "outputs": [],
   "source": [
    "%matplotlib widget\n",
    "mpl.rc('xtick',labelsize=16)\n",
    "mpl.rc('ytick',labelsize=16)"
   ]
  },
  {
   "cell_type": "markdown",
   "id": "e865ae63",
   "metadata": {},
   "source": [
    "### 1 ATOM 1D HARMONIC POTENTIAL\n",
    "\n",
    "Here we implement a single atom in a 1D harmonic potential and compare with theory.\n",
    "For a 1D harmonic oscillator, $\\omega = \\sqrt{\\frac{k}{m}}$.\n",
    "\n",
    "So for a particle of mass 2kg and spring constant 10N/m, $\\omega = \\sqrt{5}$.\n",
    "If the particle started off at $X_0 = 3.5$ m with 0 velocity then the particle should oscillate with a mixmum amplitude of 3.5m"
   ]
  },
  {
   "cell_type": "code",
   "execution_count": null,
   "id": "cfe7eb5e",
   "metadata": {},
   "outputs": [],
   "source": [
    "# ENSEMBLE DEFINITIONS\n",
    "\"\"\"\n",
    "n       : The number of particles in the simulation\n",
    "charge  : Charge of the particle in C\n",
    "mass    : Mass of the particle in kg\n",
    "\"\"\"\n",
    "ensemble_prop = {\n",
    "    \"n\" : 1,\n",
    "    \"charge\" : np.array([1]),\n",
    "    \"mass\": np.array([2])\n",
    "}\n",
    "\n",
    "n = ensemble_prop[\"n\"]\n",
    "\n",
    "# Angular frequency\n",
    "w = np.array([np.sqrt(5.0)])\n",
    "\n",
    "# Initial position\n",
    "x0 = np.array([3.5])\n",
    "\n",
    "# Initial velocity\n",
    "v0 = np.array([0.0])"
   ]
  },
  {
   "cell_type": "code",
   "execution_count": null,
   "id": "2ff7ec99",
   "metadata": {},
   "outputs": [],
   "source": [
    "# Creates local 1D harmonic potential around origin with frequency w\n",
    "potentials = [LocalHarmonicPotential1D(w)]"
   ]
  },
  {
   "cell_type": "code",
   "execution_count": null,
   "id": "50edbae1",
   "metadata": {},
   "outputs": [],
   "source": [
    "# SIMULATION SETUP\n",
    "\n",
    "# Total time\n",
    "T = 2.9\n",
    "\n",
    "# Time step\n",
    "dt = 1e-3\n",
    "\n",
    "x,v,a = sim_leapfrog(T,dt,x0,v0,ensemble_prop,potentials,language='c++',dims=1)\n",
    "t = np.linspace(0,T,int(T/dt)+1)"
   ]
  },
  {
   "cell_type": "code",
   "execution_count": null,
   "id": "cf5b6d01",
   "metadata": {},
   "outputs": [],
   "source": [
    "print(potentials[0].potential(x[:,0],ensemble_prop))"
   ]
  },
  {
   "cell_type": "code",
   "execution_count": null,
   "id": "7dec5bd2",
   "metadata": {},
   "outputs": [],
   "source": [
    "# PLOTTING\n",
    "plt.figure(figsize=(13.33,7.5),dpi=96)\n",
    "\n",
    "plt.grid()\n",
    "plt.plot(t,x,label='particle 1',linewidth=2)\n",
    "plt.xlabel('Time (s)',fontsize=18)\n",
    "plt.ylabel('Position (m)',fontsize=18)\n",
    "plt.legend(fontsize=18)\n",
    "plt.rcParams['figure.figsize'] = [10/2.54, 8/2.54]\n",
    "plt.show()"
   ]
  },
  {
   "cell_type": "code",
   "execution_count": null,
   "id": "26334021",
   "metadata": {},
   "outputs": [],
   "source": [
    "plt.figure(figsize=(13.33,7.5),dpi=96)\n",
    "\n",
    "plt.subplot(221)\n",
    "plt.grid()\n",
    "plt.plot(t,x,label='particle 1',linewidth=2)\n",
    "plt.xlabel('Time (s)',fontsize=18)\n",
    "plt.ylabel('Position (m)',fontsize=18)\n",
    "plt.legend(fontsize=16)\n",
    "\n",
    "plt.subplot(222)\n",
    "plt.grid()\n",
    "plt.plot(t,v,linewidth=2)\n",
    "plt.xlabel('Time (s)',fontsize=18)\n",
    "plt.ylabel('Speed (m/s)',fontsize=18)\n",
    "\n",
    "plt.subplot(223)\n",
    "plt.grid()\n",
    "plt.plot(t,a,linewidth=2)\n",
    "plt.xlabel('Time (s)',fontsize=18)\n",
    "plt.ylabel('Acceleration (m/s^2)',fontsize=18)\n",
    "\n",
    "plt.subplot(224)\n",
    "plt.grid()\n",
    "plt.plot(x[:,0],[potentials[0].potential(i,ensemble_prop) for i in x],linewidth=2)\n",
    "plt.xlabel('Position (m)',fontsize=18)\n",
    "plt.ylabel('Potential energy (J)',fontsize=18)\n",
    "\n",
    "plt.tight_layout()\n",
    "plt.show()"
   ]
  },
  {
   "cell_type": "markdown",
   "id": "40ba5b7f",
   "metadata": {},
   "source": [
    "### 2 DIFFERENT ATOMS IN A 1D HARMONIC POTENTIAL\n",
    "\n",
    "Consider 2 particles of different masses trapped in the same harmonic poential starting from the same extreme point. Let the mass of the 2nd particle be 1/3rd the mass of the 1st"
   ]
  },
  {
   "cell_type": "code",
   "execution_count": null,
   "id": "f21d411b",
   "metadata": {},
   "outputs": [],
   "source": [
    "# ENSEMBLE DEFINITIONS\n",
    "\"\"\"\n",
    "n       : The number of particles in the simulation\n",
    "charge  : Charge of the particle in C\n",
    "mass    : Mass of the particle in kg\n",
    "\"\"\"\n",
    "ensemble_prop = {\n",
    "    \"n\" : 2,\n",
    "    \"charge\" : np.array([1.0,1.0]),\n",
    "    \"mass\": np.array([2.0,2.0/3])\n",
    "}\n",
    "\n",
    "n = ensemble_prop[\"n\"]\n",
    "\n",
    "# Angular frequency\n",
    "w = np.array([np.sqrt(5.0) , np.sqrt(15.0)])\n",
    "\n",
    "# Initial position\n",
    "x0 = np.array([3.5 , 3.5])\n",
    "\n",
    "# Initial velocity\n",
    "v0 = np.array([0.0, 0.0])"
   ]
  },
  {
   "cell_type": "code",
   "execution_count": null,
   "id": "cb95080f",
   "metadata": {},
   "outputs": [],
   "source": [
    "# Creates local 1D harmonic potential around origin with frequency w\n",
    "potentials = [LocalHarmonicPotential1D(w)]"
   ]
  },
  {
   "cell_type": "code",
   "execution_count": null,
   "id": "46780473",
   "metadata": {},
   "outputs": [],
   "source": [
    "print(x)"
   ]
  },
  {
   "cell_type": "code",
   "execution_count": null,
   "id": "f6db838c",
   "metadata": {},
   "outputs": [],
   "source": [
    "# SIMULATION SETUP\n",
    "\n",
    "# Total time\n",
    "T = 2.9\n",
    "\n",
    "# Time step\n",
    "dt = 1e-3\n",
    "\n",
    "x,v,a = sim_leapfrog(T,dt,x0,v0,ensemble_prop,potentials,language='c++',dims=1)\n",
    "t = np.linspace(0,T,int(T/dt)+1)"
   ]
  },
  {
   "cell_type": "code",
   "execution_count": null,
   "id": "36690619",
   "metadata": {},
   "outputs": [],
   "source": [
    "# PLOTTING\n",
    "plt.figure(figsize=(13.33,7.5),dpi=96)\n",
    "\n",
    "plt.grid()\n",
    "for i in range(n):\n",
    "    plt.plot(t,x[:,i],label='particle '+str(i+1),linewidth=2)\n",
    "plt.xlabel('Time (s)',fontsize=18)\n",
    "plt.ylabel('Position (m)',fontsize=18)\n",
    "plt.legend(fontsize=18)\n",
    "plt.rcParams['figure.figsize'] = [10/2.54, 8/2.54]\n",
    "plt.show()"
   ]
  },
  {
   "cell_type": "code",
   "execution_count": null,
   "id": "8eeaa186",
   "metadata": {},
   "outputs": [],
   "source": [
    "plt.figure(figsize=(13.33,7.5),dpi=96)\n",
    "\n",
    "plt.subplot(221)\n",
    "plt.grid()\n",
    "for i in range(n):\n",
    "    plt.plot(t,x[:,i],label='particle '+str(i + 1),linewidth=2)\n",
    "plt.xlabel('Time (s)',fontsize=18)\n",
    "plt.ylabel('Position (m)',fontsize=18)\n",
    "plt.legend(fontsize=16,loc='upper right')\n",
    "\n",
    "plt.subplot(222)\n",
    "plt.grid()\n",
    "for i in range(n):\n",
    "    plt.plot(t,v[:,i],linewidth=2)\n",
    "plt.xlabel('Time (s)',fontsize=18)\n",
    "plt.ylabel('Speed (m/s)',fontsize=18)\n",
    "\n",
    "plt.subplot(223)\n",
    "plt.grid()\n",
    "for i in range(n):\n",
    "    plt.plot(t,a[:,i],linewidth=2)\n",
    "plt.xlabel('Time (s)',fontsize=18)\n",
    "plt.ylabel('Acceleration (m/s^2)',fontsize=18)\n",
    "\n",
    "plt.subplot(224)\n",
    "plt.grid()\n",
    "for i in range(n):\n",
    "    plt.plot(x[:,i],[potentials[0].potential(j,ensemble_prop) for j in x[:,i]],linewidth=2)\n",
    "plt.xlabel('Position (m)',fontsize=18)\n",
    "plt.ylabel('Potential energy (J)',fontsize=18)\n",
    "\n",
    "plt.tight_layout()\n",
    "plt.show()"
   ]
  },
  {
   "cell_type": "markdown",
   "id": "3b1d8692",
   "metadata": {},
   "source": [
    "### 2 IDENTICAL CHARGES COLOUMB POTENTIAL\n",
    "\n",
    "Here we compare 2 identical charged atoms for their coloumb interaction"
   ]
  },
  {
   "cell_type": "code",
   "execution_count": null,
   "id": "cc7655bf",
   "metadata": {},
   "outputs": [],
   "source": [
    "# ENSEMBLE DEFINITIONS\n",
    "\"\"\"\n",
    "n       : The number of particles in the simulation\n",
    "charge  : Charge of the particle in C\n",
    "mass    : Mass of the particle in kg\n",
    "\"\"\"\n",
    "ensemble_prop = {\n",
    "    \"n\" : 2,\n",
    "    \"charge\" : np.array([1.0,1.0]),\n",
    "    \"mass\": np.array([2.0,2.0])\n",
    "}\n",
    "\n",
    "n = ensemble_prop[\"n\"]\n",
    "\n",
    "# Initial position\n",
    "x0 = np.array([-0.5 , 0.5])\n",
    "\n",
    "# Initial velocity\n",
    "v0 = np.array([0.0, 0.0])\n",
    "\n",
    "# Eqlm position due to other potentials\n",
    "d = np.array([0.0,0.0])"
   ]
  },
  {
   "cell_type": "code",
   "execution_count": null,
   "id": "52a27e86",
   "metadata": {},
   "outputs": [],
   "source": [
    "# Creates local 1D harmonic potential around origin with frequency w\n",
    "potentials = [InverseSquarePotential1D(d)]"
   ]
  },
  {
   "cell_type": "code",
   "execution_count": null,
   "id": "79af9ad3",
   "metadata": {},
   "outputs": [],
   "source": [
    "# SIMULATION SETUP\n",
    "\n",
    "# Total time\n",
    "T = 5\n",
    "\n",
    "# Time step\n",
    "dt = 1e-3\n",
    "\n",
    "x,v,a = sim_leapfrog(T,dt,x0,v0,ensemble_prop,potentials,language='python',dims=1)\n",
    "t = np.linspace(0,T,int(T/dt)+1)"
   ]
  },
  {
   "cell_type": "code",
   "execution_count": null,
   "id": "a314cefc",
   "metadata": {},
   "outputs": [],
   "source": [
    "# PLOTTING\n",
    "plt.figure(figsize=(13.33,7.5),dpi=96)\n",
    "\n",
    "plt.grid()\n",
    "for i in range(n):\n",
    "    plt.plot(t,x[:,i],label='particle '+str(i+1),linewidth=2)\n",
    "plt.xlabel('Time (s)',fontsize=18)\n",
    "plt.ylabel('Position (m)',fontsize=18)\n",
    "plt.legend(fontsize=18)\n",
    "plt.rcParams['figure.figsize'] = [10/2.54, 8/2.54]\n",
    "plt.show()"
   ]
  },
  {
   "cell_type": "code",
   "execution_count": null,
   "id": "94fa4900",
   "metadata": {},
   "outputs": [],
   "source": [
    "plt.figure(figsize=(13.33,7.5),dpi=96)\n",
    "\n",
    "plt.subplot(221)\n",
    "plt.grid()\n",
    "for i in range(n):\n",
    "    plt.plot(t,x[:,i],label='particle '+str(i + 1),linewidth=2)\n",
    "plt.xlabel('Time (s)',fontsize=18)\n",
    "plt.ylabel('Position (m)',fontsize=18)\n",
    "plt.legend(fontsize=16,loc='right')\n",
    "\n",
    "plt.subplot(222)\n",
    "plt.grid()\n",
    "for i in range(n):\n",
    "    plt.plot(t,v[:,i],linewidth=2)\n",
    "plt.xlabel('Time (s)',fontsize=18)\n",
    "plt.ylabel('Speed (m/s)',fontsize=18)\n",
    "\n",
    "plt.subplot(223)\n",
    "plt.grid()\n",
    "for i in range(n):\n",
    "    plt.plot(t,a[:,i],linewidth=2)\n",
    "plt.xlabel('Time (s)',fontsize=18)\n",
    "plt.ylabel('Acceleration (m/s^2)',fontsize=18)\n",
    "\n",
    "plt.subplot(224)\n",
    "plt.grid()\n",
    "plt.plot(t,[potentials[0].potential(x[i,:],ensemble_prop) for i in range(len(t))],linewidth=2)\n",
    "plt.xlabel('Time (s)',fontsize=18)\n",
    "plt.ylabel('Potential energy (J)',fontsize=18)\n",
    "\n",
    "plt.tight_layout()\n",
    "plt.show()"
   ]
  },
  {
   "cell_type": "markdown",
   "id": "20042979",
   "metadata": {},
   "source": [
    "### 2 DIFFERENT CHARGED PARTICLES\n",
    "\n",
    "Here we compare 2 particles of different charges and masses for their coloumbic interactions"
   ]
  },
  {
   "cell_type": "code",
   "execution_count": null,
   "metadata": {},
   "outputs": [],
   "source": [
    "# ENSEMBLE DEFINITIONS\n",
    "\"\"\"\n",
    "n       : The number of particles in the simulation\n",
    "charge  : Charge of the particle in C\n",
    "mass    : Mass of the particle in kg\n",
    "\"\"\"\n",
    "ensemble_prop = {\n",
    "    \"n\" : 2,\n",
    "    \"charge\" : np.array([1,3]),\n",
    "    \"mass\": np.array([2,4])\n",
    "}\n",
    "\n",
    "n = ensemble_prop[\"n\"]\n",
    "\n",
    "# Initial position\n",
    "x0 = np.array([-0.5, 0.5])\n",
    "\n",
    "# Initial velocity\n",
    "v0 = np.array([0.0, 0.0])\n",
    "\n",
    "# Eqlm position due to other potentials\n",
    "d = np.array([0.0,0.0])"
   ]
  },
  {
   "cell_type": "code",
   "execution_count": null,
   "id": "e0dc1425",
   "metadata": {},
   "outputs": [],
   "source": [
    "# Creates local 1D harmonic potential around origin with frequency w\n",
    "potentials = [InverseSquarePotential1D(d)]"
   ]
  },
  {
   "cell_type": "code",
   "execution_count": null,
   "id": "b6ccd0da",
   "metadata": {},
   "outputs": [],
   "source": [
    "# SIMULATION SETUP\n",
    "\n",
    "# Total time\n",
    "T = 5\n",
    "\n",
    "# Time step\n",
    "dt = 1e-3\n",
    "\n",
    "x,v,a = sim_leapfrog(T,dt,x0,v0,ensemble_prop,potentials,language='c++',dims=1)\n",
    "t = np.linspace(0,T,int(T/dt)+1)"
   ]
  },
  {
   "cell_type": "code",
   "execution_count": null,
   "id": "3d491242",
   "metadata": {},
   "outputs": [],
   "source": [
    "# PLOTTING\n",
    "plt.figure(figsize=(13.33,7.5),dpi=96)\n",
    "\n",
    "plt.grid()\n",
    "for i in range(n):\n",
    "    plt.plot(t,x[:,i],label='particle '+str(i+1),linewidth=2)\n",
    "plt.xlabel('Time (s)',fontsize=18)\n",
    "plt.ylabel('Position (m)',fontsize=18)\n",
    "plt.legend(fontsize=18)\n",
    "plt.rcParams['figure.figsize'] = [10/2.54, 8/2.54]\n",
    "plt.show()"
   ]
  },
  {
   "cell_type": "code",
   "execution_count": null,
   "id": "2018cc3d",
   "metadata": {},
   "outputs": [],
   "source": [
    "plt.figure(figsize=(13.33,7.5),dpi=96)\n",
    "\n",
    "plt.subplot(221)\n",
    "plt.grid()\n",
    "for i in range(n):\n",
    "    plt.plot(t,x[:,i],label='particle '+str(i + 1),linewidth=2)\n",
    "plt.xlabel('Time (s)',fontsize=18)\n",
    "plt.ylabel('Position (m)',fontsize=18)\n",
    "plt.legend(fontsize=16,loc='right')\n",
    "\n",
    "plt.subplot(222)\n",
    "plt.grid()\n",
    "for i in range(n):\n",
    "    plt.plot(t,v[:,i],linewidth=2)\n",
    "plt.xlabel('Time (s)',fontsize=18)\n",
    "plt.ylabel('Speed (m/s)',fontsize=18)\n",
    "\n",
    "plt.subplot(223)\n",
    "plt.grid()\n",
    "for i in range(n):\n",
    "    plt.plot(t,a[:,i],linewidth=2)\n",
    "plt.xlabel('Time (s)',fontsize=18)\n",
    "plt.ylabel('Acceleration (m/s^2)',fontsize=18)\n",
    "\n",
    "plt.subplot(224)\n",
    "plt.grid()\n",
    "plt.plot(t,[potentials[0].potential(x[i,:],ensemble_prop) for i in range(len(t))],linewidth=2)\n",
    "plt.xlabel('Time (s)',fontsize=18)\n",
    "plt.ylabel('Potential energy (J)',fontsize=18)\n",
    "\n",
    "plt.tight_layout()\n",
    "plt.show()"
   ]
  },
  {
   "cell_type": "markdown",
   "id": "656ea32e",
   "metadata": {},
   "source": [
    "### 2 CHARGED PARTICLES IN A HARMONIC POTENTIAL\n",
    "\n",
    "2 charged particles moving in a harmonic potential"
   ]
  },
  {
   "cell_type": "code",
   "execution_count": null,
   "id": "0cabf34d",
   "metadata": {},
   "outputs": [],
   "source": [
    "# ENSEMBLE DEFINITIONS\n",
    "\"\"\"\n",
    "n       : The number of particles in the simulation\n",
    "charge  : Charge of the particle in C\n",
    "mass    : Mass of the particle in kg\n",
    "\"\"\"\n",
    "ensemble_prop = {\n",
    "    \"n\" : 2,\n",
    "    \"charge\" : np.array([1,3]),\n",
    "    \"mass\": np.array([2,4])\n",
    "}\n",
    "\n",
    "n = ensemble_prop[\"n\"]\n",
    "\n",
    "# Initial position\n",
    "x0 = np.array([-0.2 , 0.2])\n",
    "\n",
    "# Initial velocity\n",
    "v0 = np.array([0.0, 0.0])\n",
    "\n",
    "# Angular frequency\n",
    "w = np.array([np.sqrt(10.0),np.sqrt(5.0)])\n",
    "\n",
    "# Eqlm position due to other potentials\n",
    "d = np.array([0.0,0.0])"
   ]
  },
  {
   "cell_type": "code",
   "execution_count": null,
   "id": "86088a26",
   "metadata": {},
   "outputs": [],
   "source": [
    "# Creates local 1D harmonic potential around origin with frequency w\n",
    "potentials = [InverseSquarePotential1D(d),LocalHarmonicPotential1D(w)]"
   ]
  },
  {
   "cell_type": "code",
   "execution_count": null,
   "id": "6f6c891d",
   "metadata": {},
   "outputs": [],
   "source": [
    "# SIMULATION SETUP\n",
    "\n",
    "# Total time\n",
    "T = 5\n",
    "\n",
    "# Time step\n",
    "dt = 1e-3\n",
    "\n",
    "x,v,a = sim_leapfrog(T,dt,x0,v0,ensemble_prop,potentials,language='c++',dims=1)\n",
    "t = np.linspace(0,T,int(T/dt)+1)"
   ]
  },
  {
   "cell_type": "code",
   "execution_count": null,
   "id": "15beb674",
   "metadata": {},
   "outputs": [],
   "source": [
    "# PLOTTING\n",
    "plt.figure(figsize=(13.33,7.5),dpi=96)\n",
    "\n",
    "plt.grid()\n",
    "for i in range(n):\n",
    "    plt.plot(t,x[:,i],label='particle '+str(i+1),linewidth=2)\n",
    "plt.xlabel('Time (s)',fontsize=18)\n",
    "plt.ylabel('Position (m)',fontsize=18)\n",
    "plt.legend(fontsize=18)\n",
    "plt.rcParams['figure.figsize'] = [10/2.54, 8/2.54]\n",
    "plt.show()"
   ]
  },
  {
   "cell_type": "code",
   "execution_count": null,
   "id": "57451471",
   "metadata": {},
   "outputs": [],
   "source": [
    "plt.figure(figsize=(13.33,7.5),dpi=96)\n",
    "\n",
    "plt.subplot(221)\n",
    "plt.grid()\n",
    "for i in range(n):\n",
    "    plt.plot(t,x[:,i],label='particle '+str(i + 1),linewidth=2)\n",
    "plt.xlabel('Time (s)',fontsize=18)\n",
    "plt.ylabel('Position (m)',fontsize=18)\n",
    "plt.legend(fontsize=16,loc='right')\n",
    "\n",
    "plt.subplot(222)\n",
    "plt.grid()\n",
    "for i in range(n):\n",
    "    plt.plot(t,v[:,i],linewidth=2)\n",
    "plt.xlabel('Time (s)',fontsize=18)\n",
    "plt.ylabel('Speed (m/s)',fontsize=18)\n",
    "\n",
    "plt.subplot(223)\n",
    "plt.grid()\n",
    "for i in range(n):\n",
    "    plt.plot(t,a[:,i],linewidth=2)\n",
    "plt.xlabel('Time (s)',fontsize=18)\n",
    "plt.ylabel('Acceleration (m/s^2)',fontsize=18)\n",
    "\n",
    "plt.subplot(224)\n",
    "plt.grid()\n",
    "plt.plot(t,[potentials[0].potential(x[i,:],ensemble_prop) for i in range(len(t))],linewidth=2,label = \"Coulombic potential\")\n",
    "for i in range(n):\n",
    "    plt.plot(t,[potentials[1].potential(x[j][i],ensemble_prop) for j in range(len(t))],linewidth=2,label = \"Harmonic pot : Particle \" + str(i+1) )\n",
    "plt.xlabel('Time (s)',fontsize=18)\n",
    "plt.ylabel('Potential energy (J)',fontsize=18)\n",
    "plt.legend()\n",
    "\n",
    "plt.tight_layout()\n",
    "plt.show()"
   ]
  },
  {
   "cell_type": "markdown",
   "id": "4eb43426",
   "metadata": {},
   "source": [
    "**NOTE :** The coordinates for a multi-atom 3D system follows the pattern (x1, x2, x3 ... xn, y1, y2, y3 ... yn, z1, z2, z3 ... zn)"
   ]
  },
  {
   "cell_type": "markdown",
   "id": "4175e1be",
   "metadata": {},
   "source": [
    "### 2 DIFFERENT CHARGED PARTICLES IN 3D\n",
    "\n",
    "Here we compare 2 particles of different charges and masses for their coloumbic interactions in 3D"
   ]
  },
  {
   "cell_type": "code",
   "execution_count": null,
   "id": "d8ec8077",
   "metadata": {},
   "outputs": [],
   "source": [
    "# ENSEMBLE DEFINITIONS\n",
    "\"\"\"\n",
    "n       : The number of particles in the simulation\n",
    "charge  : Charge of the particle in C\n",
    "mass    : Mass of the particle in kg\n",
    "\"\"\"\n",
    "\n",
    "e = 1e-5\n",
    "\n",
    "ensemble_prop = {\n",
    "    \"n\" : 2,\n",
    "    \"charge\" : np.array([e,3*e]),\n",
    "    \"mass\": np.array([2,4])\n",
    "}\n",
    "\n",
    "n = ensemble_prop[\"n\"]\n",
    "\n",
    "# Initial position\n",
    "x0 = np.array([-0.5, 0.5, -0.25, 0.25, -1.5, 1.5])\n",
    "\n",
    "# Initial velocity\n",
    "v0 = np.zeros(3*n)\n",
    "\n",
    "# Cutoff\n",
    "cutoff = None"
   ]
  },
  {
   "cell_type": "code",
   "execution_count": null,
   "id": "5b7856f7",
   "metadata": {},
   "outputs": [],
   "source": [
    "# Creates local 1D harmonic potential around origin with frequency w\n",
    "potentials = [MutualCoulombPotential(cutoff)]"
   ]
  },
  {
   "cell_type": "code",
   "execution_count": null,
   "id": "60b5d7ea",
   "metadata": {},
   "outputs": [],
   "source": [
    "# SIMULATION SETUP\n",
    "\n",
    "# Total time\n",
    "T = 3\n",
    "\n",
    "# Time step\n",
    "dt = 1e-3\n",
    "\n",
    "x,v,a = sim_leapfrog(T,dt,x0,v0,ensemble_prop,potentials,language='c++',dims=3)\n",
    "t = np.linspace(0,T,int(T/dt)+1)"
   ]
  },
  {
   "cell_type": "code",
   "execution_count": null,
   "id": "7dcf09c7",
   "metadata": {},
   "outputs": [],
   "source": [
    "for ind,dimension in enumerate([\"X\",\"Y\",\"Z\"]):\n",
    "\n",
    "    plt.figure(figsize=(13.33,7.5),dpi=96)\n",
    "\n",
    "    plt.suptitle(\"Axis : \"+dimension,fontsize = 18)\n",
    "    plt.subplot(221)\n",
    "    plt.grid()\n",
    "    for i in range(n):\n",
    "        plt.plot(t,x[:,ind*n + i],label='particle '+str(i + 1),linewidth=2)\n",
    "    plt.xlabel('Time (s)',fontsize=18)\n",
    "    plt.ylabel('Position (m)',fontsize=18)\n",
    "    plt.legend(fontsize=16,loc='right')\n",
    "\n",
    "    plt.subplot(222)\n",
    "    plt.grid()\n",
    "    for i in range(n):\n",
    "        plt.plot(t,v[:,ind*n + i],linewidth=2)\n",
    "    plt.xlabel('Time (s)',fontsize=18)\n",
    "    plt.ylabel('Speed (m/s)',fontsize=18)\n",
    "\n",
    "    plt.subplot(223)\n",
    "    plt.grid()\n",
    "    for i in range(n):\n",
    "        plt.plot(t,a[:,ind*n + i],linewidth=2)\n",
    "    plt.xlabel('Time (s)',fontsize=18)\n",
    "    plt.ylabel('Acceleration (m/s^2)',fontsize=18)\n",
    "\n",
    "    plt.subplot(224)\n",
    "    plt.grid()\n",
    "    plt.plot(t,[potentials[0].potential(x[i,:],ensemble_prop) for i in range(len(t))],linewidth=2)\n",
    "    plt.xlabel('Time (s)',fontsize=18)\n",
    "    plt.ylabel('Potential energy (J)',fontsize=18)\n",
    "\n",
    "    plt.tight_layout()\n",
    "    plt.show()"
   ]
  },
  {
   "cell_type": "markdown",
   "id": "82ef3df7",
   "metadata": {},
   "source": [
    "### TESTING FUNCTIONS"
   ]
  },
  {
   "cell_type": "markdown",
   "id": "3d220213",
   "metadata": {},
   "source": [
    "#### TESTING EXAMPLE POTENTIAL\n",
    "\n",
    "This is a test plot for the `testPseudoPot()`. This also acts as an example for contour plots in the future."
   ]
  },
  {
   "cell_type": "code",
   "execution_count": null,
   "id": "b823a3d1",
   "metadata": {},
   "outputs": [],
   "source": [
    "X,Y = np.mgrid[-1:1:100j,-1:1:100j]\n",
    "Z = np.arange(-5,6,2)\n",
    "\n",
    "A = 5\n",
    "B = 4\n",
    "\n",
    "obj = testPseudoPot(A,B)\n",
    "fig = plt.figure(figsize=(13.33,13),dpi=96)\n",
    "\n",
    "for idx,z in enumerate(Z):\n",
    "    ax = fig.add_subplot(3,2,idx+1)\n",
    "    \n",
    "    cnt = ax.contour(X, Y, obj.contourPotential(X,Y,z), colors = \"k\", linewidths = 0.5)\n",
    "    ax.clabel(cnt, cnt.levels, inline = True, fontsize = 10)\n",
    "\n",
    "    cnt = ax.contourf(X,Y,obj.contourPotential(X,Y,z), cmap=\"viridis\",vmin=-100,vmax=15)\n",
    "    cbar = ax.figure.colorbar(cnt, ax = ax)\n",
    "    cbar.ax.set_ylabel(\"Potential Energy\",fontsize = 16, rotation = -90, va = \"bottom\")\n",
    "\n",
    "    ax.set_title(\"Z = \"+str(z),fontsize=16)\n",
    "    ax.set_xlabel(\"X\",fontsize=18)\n",
    "    ax.set_ylabel(\"Y\",fontsize=18)\n",
    "    ax.tick_params(which=\"both\",labelsize=12)\n",
    "\n",
    "plt.tight_layout()\n",
    "plt.show()"
   ]
  },
  {
   "cell_type": "markdown",
   "id": "46a62688",
   "metadata": {},
   "source": [
    "#### TESTING THE VELOCITY GENERATOR\n",
    "\n",
    "Generating velovities at different temperatures and comparing with the actual distributions"
   ]
  },
  {
   "cell_type": "code",
   "execution_count": null,
   "id": "11020d14",
   "metadata": {},
   "outputs": [],
   "source": [
    "def MaxwellBoltzmann(v,m,T):\n",
    "    kB = 1.38e-23\n",
    "    return (m/(2*np.pi*kB*T))**1.5 * 4*np.pi * v*v * np.exp(-m*v*v/(2*kB*T))\n"
   ]
  },
  {
   "cell_type": "code",
   "execution_count": null,
   "id": "a6c35fc0",
   "metadata": {},
   "outputs": [],
   "source": [
    "n = 100000\n",
    "mBa = 2.28036828e-25\n",
    "mass = np.ones(n)*mBa\n",
    "\n",
    "v = np.arange(0,1000,0.1)\n",
    "T = [100.0,200.0,300.0]\n",
    "\n",
    "plt.figure(figsize=(13.33,7.5),dpi=96)\n",
    "\n",
    "plt.grid()\n",
    "for t in T:\n",
    "    plt.plot(v,MaxwellBoltzmann(v,mBa,t),label='Temperature '+str(t) + 'K',linewidth=2)\n",
    "plt.xlabel('Speed',fontsize=18)\n",
    "plt.ylabel('P(v)',fontsize=18)\n",
    "plt.legend(fontsize=18)\n",
    "plt.rcParams['figure.figsize'] = [10/2.54, 8/2.54]\n",
    "plt.show()"
   ]
  },
  {
   "cell_type": "code",
   "execution_count": null,
   "id": "bb4237db",
   "metadata": {},
   "outputs": [],
   "source": [
    "colorList = ['blue','orange','green']\n",
    "plt.figure(figsize=(13.33,7.5),dpi=96)\n",
    "\n",
    "for idx,t in enumerate(T):\n",
    "    velGenerated = genMaxwellVelocities(t,mass)\n",
    "    speedGenerated = [velGenerated[i]*velGenerated[i] + velGenerated[i+n]*velGenerated[i+n] + velGenerated[i+2*n]*velGenerated[i+2*n] for i in range(n)]\n",
    "    speedGenerated = np.array(speedGenerated)\n",
    "    speedGenerated = np.sqrt(speedGenerated)\n",
    "    plt.hist(speedGenerated,color=colorList[idx],alpha=0.4,bins=100, density=True)\n",
    "    plt.plot(v,MaxwellBoltzmann(v,mBa,t),color=colorList[idx],label='Temperature '+str(t) + 'K',linewidth=2)\n",
    "\n",
    "plt.xlabel('Speed',fontsize=18)\n",
    "plt.ylabel('P(v)',fontsize=18)\n",
    "plt.legend(fontsize=18)\n",
    "plt.show()\n",
    "    "
   ]
  },
  {
   "cell_type": "markdown",
   "id": "8cf34e2d",
   "metadata": {},
   "source": [
    "### COLOUMB CRYSTAL\n",
    "Attempt at an energy minimized structure of a coulom crystal"
   ]
  },
  {
   "cell_type": "markdown",
   "id": "bac571b3",
   "metadata": {},
   "source": [
    "#### TESTING THE PSEUDO POTENTIAL"
   ]
  },
  {
   "cell_type": "code",
   "execution_count": null,
   "id": "d585c253",
   "metadata": {},
   "outputs": [],
   "source": [
    "# ENSEMBLE DEFINITIONS\n",
    "\"\"\"\n",
    "n       : The number of particles in the simulation\n",
    "charge  : Charge of the particle in C\n",
    "mass    : Mass of the particle in kg\n",
    "\"\"\"\n",
    "\n",
    "e = 1.6e-19\n",
    "n = 100\n",
    "mBa = 2.28036828e-26\n",
    "\n",
    "ensemble_prop = {\n",
    "    \"n\" : n,\n",
    "    \"charge\" : e*np.ones(n),\n",
    "    \"mass\": mBa*np.ones(n)\n",
    "}\n",
    "\n",
    "# Initial position\n",
    "x0 = fibonacciSphere(n)\n",
    "\n",
    "# Initial velocity\n",
    "v0 = np.zeros(3*n)\n",
    "\n",
    "#Alpha\n",
    "alpha = -0.024\n",
    "\n",
    "#Endcap voltage\n",
    "Vend = 8\n",
    "\n",
    "#RF voltage\n",
    "Vrf = 160\n",
    "\n",
    "#RF angular frequency\n",
    "w = np.pi*1e6   #f = 500kHz\n",
    "\n",
    "#Distance to electrode\n",
    "r0 = 7.5e-3\n",
    "\n",
    "# Cutoff\n",
    "cutoff = None"
   ]
  },
  {
   "cell_type": "code",
   "execution_count": null,
   "id": "d5a50d6b",
   "metadata": {},
   "outputs": [],
   "source": [
    "potentials = [LinearQuadrupolePseudoPotential(alpha,Vend,Vrf,w,r0,ensemble_prop[\"mass\"]),MutualCoulombPotential(cutoff)]"
   ]
  },
  {
   "cell_type": "code",
   "execution_count": null,
   "id": "273976ad",
   "metadata": {},
   "outputs": [],
   "source": [
    "X,Y = np.mgrid[-5e-4:5e-4:100j,-5e-4:5e-4:100j]\n",
    "Z_slice = np.linspace(-10,10,3)\n",
    "\n",
    "fig = plt.figure(figsize=(12,9),dpi=96)\n",
    "for idx,z in enumerate(Z_slice):\n",
    "    ax = fig.add_subplot(2,2,idx+1)\n",
    "    \n",
    "    print(\"V(\",z,\")= \",potentials[0].contourPotential(0,0,z,ensemble_prop[\"mass\"][0]))\n",
    "\n",
    "    cnt = ax.contour(X,Y,potentials[0].contourPotential(X,Y,z,ensemble_prop[\"mass\"][0]),linewidths = 2,cmap=\"viridis\",vmin=0,vmax=1e-6,levels = 10)\n",
    "    ax.clabel(cnt, cnt.levels, inline = True, fontsize = 10)\n",
    "\n",
    "    ax.set_title('z = %.2f'%z, fontsize=18)\n",
    "    ax.set_xlabel(\"X\",fontsize=18)\n",
    "    ax.set_ylabel(\"Y\",fontsize=18)\n",
    "    ax.tick_params(which=\"major\",labelsize=12,rotation = -30)\n",
    "\n",
    "plt.tight_layout()\n",
    "plt.show()"
   ]
  },
  {
   "cell_type": "code",
   "execution_count": null,
   "id": "c6439359",
   "metadata": {},
   "outputs": [],
   "source": [
    "ax = plt.figure(figsize=(4,4),dpi=96).add_subplot(projection='3d')\n",
    "ax.scatter3D(x0[:n],x0[n:2*n],x0[2*n:3*n])\n",
    "plt.show()"
   ]
  },
  {
   "cell_type": "code",
   "execution_count": null,
   "id": "01d503b8",
   "metadata": {},
   "outputs": [],
   "source": [
    "newpos = steepestDescent(x0,ensemble_prop,potentials,0.05,0.001,10000)"
   ]
  },
  {
   "cell_type": "code",
   "execution_count": null,
   "id": "c6b5190a",
   "metadata": {},
   "outputs": [],
   "source": [
    "ax = plt.figure(figsize=(4,4),dpi=96).add_subplot(projection='3d')\n",
    "ax.scatter3D(newpos[:n],newpos[n:2*n],newpos[2*n:3*n])\n",
    "plt.show()"
   ]
  },
  {
   "cell_type": "code",
   "execution_count": null,
   "id": "c981d4d6",
   "metadata": {},
   "outputs": [],
   "source": [
    "T = 1e-3\n",
    "dt = 5e-6\n",
    "\n",
    "r_sim, v_sim, a_sim = sim_leapfrog(T, dt, newpos, v0, ensemble_prop, potentials=potentials, language=\"python\")\n",
    "t_sim = np.linspace(0, T, int(T/dt)+1)"
   ]
  },
  {
   "cell_type": "code",
   "execution_count": null,
   "id": "40e33e4f",
   "metadata": {},
   "outputs": [],
   "source": [
    "print(\"A\",potentials[0].a)\n",
    "print(\"Q\",potentials[0].q)"
   ]
  },
  {
   "cell_type": "code",
   "execution_count": null,
   "id": "433dee6e",
   "metadata": {},
   "outputs": [],
   "source": [
    "t_sim = np.linspace(0, T, int(T/dt)+1)"
   ]
  },
  {
   "cell_type": "code",
   "execution_count": null,
   "id": "36588d8d",
   "metadata": {},
   "outputs": [],
   "source": [
    "np.savez(\"PseudoPotential_10particle\",t_sim,r_sim,v_sim,a_sim)"
   ]
  },
  {
   "cell_type": "code",
   "execution_count": null,
   "id": "9f618fcc",
   "metadata": {},
   "outputs": [],
   "source": []
  }
 ],
 "metadata": {
  "kernelspec": {
   "display_name": "Python 3 (ipykernel)",
   "language": "python",
   "name": "python3"
  },
  "language_info": {
   "codemirror_mode": {
    "name": "ipython",
    "version": 3
   },
   "file_extension": ".py",
   "mimetype": "text/x-python",
   "name": "python",
   "nbconvert_exporter": "python",
   "pygments_lexer": "ipython3",
   "version": "3.10.12"
  }
 },
 "nbformat": 4,
 "nbformat_minor": 5
}
